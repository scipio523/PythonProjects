{
 "cells": [
  {
   "cell_type": "code",
   "execution_count": 36,
   "metadata": {},
   "outputs": [],
   "source": [
    "from math import log, sqrt, pi, exp\n",
    "from scipy.stats import norm\n",
    "\n",
    "def d1(S,K,T,r,sigma):\n",
    "    return(log(S/K)+(r+((sigma**2)/2))*T)/(sigma*sqrt(T))\n",
    "def d2(S,K,T,r,sigma):\n",
    "    return d1(S,K,T,r,sigma)-(sigma*sqrt(T))\n",
    "\n",
    "## define the call options price function\n",
    "def bs_call(S,K,T,r,sigma):\n",
    "    return S*norm.cdf(d1(S,K,T,r,sigma))-K*exp(-r*T)*norm.cdf(d2(S,K,T,r,sigma))\n",
    "\n",
    "## define the put options price function\n",
    "def bs_put(S,K,T,r,sigma):\n",
    "    return K*exp(-r*T)-S+bs_call(S,K,T,r,sigma)"
   ]
  },
  {
   "cell_type": "code",
   "execution_count": 37,
   "metadata": {},
   "outputs": [
    {
     "data": {
      "text/plain": [
       "5.595380649344339"
      ]
     },
     "execution_count": 37,
     "metadata": {},
     "output_type": "execute_result"
    }
   ],
   "source": [
    "# $9 stock price, $4.5 strike, 10 year expiry, 2% interest rate, 25% vol \n",
    "bs_call(9.0, 4.5, 10, .02, .25)"
   ]
  },
  {
   "cell_type": "code",
   "execution_count": 57,
   "metadata": {},
   "outputs": [
    {
     "data": {
      "text/plain": [
       "906346.234610091"
      ]
     },
     "execution_count": 57,
     "metadata": {},
     "output_type": "execute_result"
    }
   ],
   "source": [
    "# how much should you pay for a $5M startup\n",
    "vol = 0.5\n",
    "call_price = bs_call(5000000, 5000000, 10, .02, vol)\n",
    "put_price = bs_put(5000000, 5000000, 10, .02, vol)\n",
    "cost = call_price - put_price\n",
    "cost"
   ]
  },
  {
   "cell_type": "code",
   "execution_count": null,
   "metadata": {},
   "outputs": [],
   "source": [
    "def implied_volatility(Price,S,K,T,r):\n",
    "    sigma = 0.001\n",
    "    print (np.array([['Price', 'S', 'K', 'T', 'r'], [Price, S, K, T, r]]))\n",
    "    if option == 'C':\n",
    "        while sigma < 1:\n",
    "            Price_implied = S*norm.cdf(d1(S,K,T,r,sigma))-K*exp(-r*T)*norm.cdf(d2(S,K,T,r,sigma))\n",
    "            if Price-(Price_implied) < 0.001:\n",
    "                return sigma\n",
    "            sigma += 0.001\n",
    "        return \"It could not find the right volatility of the call option.\"\n",
    "    else:\n",
    "        while sigma < 1:\n",
    "            Price_implied = K*exp(-r*T)-S+bs_call(S,K,T,r,sigma)\n",
    "            if Price-(Price_implied) < 0.001:\n",
    "                return sigma\n",
    "            sigma += 0.001\n",
    "        return \"It could not find the right volatility of the put option.\"\n",
    "    return\n",
    "\n",
    "    print (\"The implied volatility is \" + str (100* implied_volatility(Price,S,K,T,r)) + \" %.\")\n",
    "    \n",
    "implied_volatility(150000, )"
   ]
  }
 ],
 "metadata": {
  "kernelspec": {
   "display_name": "Python 3",
   "language": "python",
   "name": "python3"
  },
  "language_info": {
   "codemirror_mode": {
    "name": "ipython",
    "version": 3
   },
   "file_extension": ".py",
   "mimetype": "text/x-python",
   "name": "python",
   "nbconvert_exporter": "python",
   "pygments_lexer": "ipython3",
   "version": "3.6.7"
  }
 },
 "nbformat": 4,
 "nbformat_minor": 2
}
